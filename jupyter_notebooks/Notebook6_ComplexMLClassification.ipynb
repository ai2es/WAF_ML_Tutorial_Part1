{
 "cells": [
  {
   "cell_type": "markdown",
   "id": "8218903e",
   "metadata": {},
   "source": [
    "# Notebook 6: Complex ML Classification\n",
    "\n",
    "Author: Randy J. Chase\n",
    "\n",
    "### Goal: Training a ML using all features/predictors/inputs and all ML methods\n",
    "\n",
    "#### Reminder of Problem Statement\n",
    "\n",
    "Reminder of the ML task we want to accomplish in the paper. \n",
    "\n",
    "1. Does this image contain a thunderstorm? <-- Classification\n",
    "2. How many lightning flashes are in this image? <-- Regression\n",
    "\n",
    "#### Background\n",
    "\n",
    "For the training of machine learning we will use the [scikit-learn](https://scikit-learn.org/stable/) python package. Scikit-learn (also known as sklearn) has a wealth of resources for learning how to apply many ML methods. Futhermore, their documentation on any one method is extensive and very helpful. I encourage you to use their documentation if you want to use more that what we will show you in this tutorial. \n",
    "\n",
    "What is really nice about the sklearn package is that all of its models all work off the same syntax. In general this is how you use any of their models:\n",
    "\n",
    "1. Create or load your input data. It must be of shape ```[n_samples,n_features]```. It is commonly written as ```X``` in all of the sklearn documentation. \n",
    "2. Create or load your output data. It must be of shape ```[n_samples]```. It is commonly written as ```y``` in all of the sklearn documentation \n",
    "3. Initialize your model. To initialize a model in python usually you just need to add ```()``` at the end of the model name. \n",
    "4. Fit your model. To do this all we will need to do is apply the ```.fit(X,y)``` to your initialized model \n",
    "5. Evaluate your trained model. To get the model predictions for evaluation we will use the ```model.predict(X_val)``` or the ```model.predict_proba(X_val)```. \n",
    "\n",
    "Now that we have the basic work flow, lets actually do this with the simple example in the paper, 1 input predictor. We will start with the classification task first\n",
    "\n",
    "#### Step 1 & 2: Import packages and load data for Classification  \n",
    "Last notebook, we showed you how to do train/val and test data splits. We will do that all with our pre-made function now. But we only want 1 feature, which is feature 0. So all we need to change is the ```features_to_keep``` keyword to get just the first feature. "
   ]
  },
  {
   "cell_type": "code",
   "execution_count": 28,
   "id": "1b1258d5",
   "metadata": {},
   "outputs": [
    {
     "name": "stdout",
     "output_type": "stream",
     "text": [
      "yhat shape: (86292, 2)\n"
     ]
    }
   ],
   "source": [
    "yhat = model.predict_proba(X_validate)\n",
    "#print shape\n",
    "print('yhat shape:',yhat.shape)"
   ]
  },
  {
   "cell_type": "markdown",
   "id": "8e6321ec",
   "metadata": {},
   "source": [
    "the shape here is ```[n_samples,k_classes]```, so there is one *column* of data per class. Lets look at the first sample"
   ]
  },
  {
   "cell_type": "code",
   "execution_count": 30,
   "id": "b95dcaab",
   "metadata": {},
   "outputs": [
    {
     "data": {
      "text/plain": [
       "array([0.66475995, 0.33524005])"
      ]
     },
     "execution_count": 30,
     "metadata": {},
     "output_type": "execute_result"
    }
   ],
   "source": [
    "yhat[0]"
   ]
  },
  {
   "cell_type": "markdown",
   "id": "0a0966bf",
   "metadata": {},
   "source": [
    "this sample would be labeled 0 from ```model.predict()```. So to create a line on the performance diagram, we want to very the threshold of the labeling and then re-calculate the contingency table and get the $POD$ and $SR$ for that threshold value. "
   ]
  },
  {
   "cell_type": "code",
   "execution_count": null,
   "id": "f4c17c35",
   "metadata": {},
   "outputs": [],
   "source": []
  },
  {
   "cell_type": "markdown",
   "id": "a6d9ea3a",
   "metadata": {},
   "source": [
    "While this is useful, in your adventures of using ML you might see some people plot a line on this diagram. How do we get a line on here? what does the line mean?\n",
    "\n",
    "Well, what we have been showing so far is the ```model.predict``` output, which is actually doing something for us under the hood. The ```model.predict``` line of code is actually running the ```model.predict_proba``` which outputs a probability of each class (i.e., does not contain thunderstorm, contains thunderstorm) and then ```model.predict``` is taking the max of the two columns of probabilites to assign the class. In other words, if the probability of class 0 (no thunderstorm) is less than 0.5, then the label would be 1, and if it was greater than 0.5 it would be 0. This is not a bad place to start, but sometimes we can get better performance by using a different *threshold*.\n",
    "\n",
    "\n",
    "We can do this ourselves. Lets look at ```model.predict_proba```"
   ]
  }
 ],
 "metadata": {
  "kernelspec": {
   "display_name": "waf_tutorial_part1",
   "language": "python",
   "name": "waf_tutorial_part1"
  },
  "language_info": {
   "codemirror_mode": {
    "name": "ipython",
    "version": 3
   },
   "file_extension": ".py",
   "mimetype": "text/x-python",
   "name": "python",
   "nbconvert_exporter": "python",
   "pygments_lexer": "ipython3",
   "version": "3.10.2"
  }
 },
 "nbformat": 4,
 "nbformat_minor": 5
}
