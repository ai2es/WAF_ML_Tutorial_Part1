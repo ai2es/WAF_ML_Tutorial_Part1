{
 "cells": [
  {
   "cell_type": "markdown",
   "id": "0eb0d575",
   "metadata": {},
   "source": [
    "# Notebook 4: Simple ML \n",
    "\n",
    "Author: Randy J. Chase\n",
    "\n",
    "### Goal: Basic training a ML using a single predictor\n",
    "\n",
    "#### Reminder of Problem Statement\n",
    "\n",
    "Before we jump into the ML, I want to remind you of the ML task we want to accomplish in the paper. \n",
    "\n",
    "1. Does this image contain a thunderstorm? <-- Classification\n",
    "2. How many lightning flashes are in this image? <-- Regression\n",
    "\n",
    "#### Step 1: Import packages and load data for Classification  \n",
    "Last notebook, we showed you how to do train/val and test data splits. We will do that all with our pre-made function now. But we only want 1 feature, which is feature 0. "
   ]
  },
  {
   "cell_type": "code",
   "execution_count": 2,
   "id": "5ecfdb84",
   "metadata": {},
   "outputs": [],
   "source": [
    "#needed packages \n",
    "import xarray as xr\n",
    "import matplotlib.pyplot as plt \n",
    "import numpy as np\n",
    "import pandas as pd\n",
    "\n",
    "#plot parameters that I personally like, feel free to make these your own.\n",
    "import matplotlib\n",
    "matplotlib.rcParams['axes.facecolor'] = [0.9,0.9,0.9] #makes a grey background to the axis face\n",
    "matplotlib.rcParams['axes.labelsize'] = 14 #fontsize in pts\n",
    "matplotlib.rcParams['axes.titlesize'] = 14 \n",
    "matplotlib.rcParams['xtick.labelsize'] = 12 \n",
    "matplotlib.rcParams['ytick.labelsize'] = 12 \n",
    "matplotlib.rcParams['legend.fontsize'] = 12 \n",
    "matplotlib.rcParams['legend.facecolor'] = 'w' \n",
    "matplotlib.rcParams['savefig.transparent'] = False\n",
    "\n",
    "#make default resolution of figures much higher (i.e., High definition)\n",
    "%config InlineBackend.figure_format = 'retina'\n",
    "\n",
    "#import some helper functions for our other directory.\n",
    "import sys\n",
    "sys.path.insert(1, '../scripts/')\n",
    "from aux_functions import load_n_combine_df\n",
    "(X_train,y_train),(X_validate,y_validate),(X_test,y_test) = load_n_combine_df(path_to_data='../datasets/sevir/',features_to_keep=np.arange(0,1,1),class_labels=True)"
   ]
  },
  {
   "cell_type": "code",
   "execution_count": 3,
   "id": "ab7f2985",
   "metadata": {},
   "outputs": [
    {
     "data": {
      "text/plain": [
       "(446320, 1)"
      ]
     },
     "execution_count": 3,
     "metadata": {},
     "output_type": "execute_result"
    }
   ],
   "source": [
    "X_train.shape"
   ]
  },
  {
   "cell_type": "code",
   "execution_count": null,
   "id": "63902ec0",
   "metadata": {},
   "outputs": [],
   "source": []
  }
 ],
 "metadata": {
  "kernelspec": {
   "display_name": "waf_tutorial_part1",
   "language": "python",
   "name": "waf_tutorial_part1"
  },
  "language_info": {
   "codemirror_mode": {
    "name": "ipython",
    "version": 3
   },
   "file_extension": ".py",
   "mimetype": "text/x-python",
   "name": "python",
   "nbconvert_exporter": "python",
   "pygments_lexer": "ipython3",
   "version": "3.10.2"
  }
 },
 "nbformat": 4,
 "nbformat_minor": 5
}
