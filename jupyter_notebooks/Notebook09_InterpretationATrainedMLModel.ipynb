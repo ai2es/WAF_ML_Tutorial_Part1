{
 "cells": [
  {
   "cell_type": "markdown",
   "id": "0474561a",
   "metadata": {},
   "source": [
    "# Notebook 09: Interpretation of a trained ML model\n",
    "\n",
    "### Goal: Show some examples of how to interogate a trained ML model\n",
    "\n",
    "#### Background\n",
    "\n",
    "While alot of this tutorial has been working up to training and evaluating a ML model they can still seem a bit like a black box. In order to help unvail some things that the ML model has learned, we will do a few *explination* methods on the ML here. Specifically, we will show an example of *permuation importance* and the *accumulated local effects*. Both of these methods were discussed in the paper and are already coded up for you in the ```scikit-explain``` python package maintained by Dr. Flora at CIWRO [link](https://github.com/monte-flora/scikit-explain).\n",
    "\n",
    "```scikit-explain``` should already be installed in your environment (installed when you made the environment), but if it isn't use ```pip```\n",
    "\n",
    "```pip install scikit-explain``` \n",
    "\n",
    "#### Load presaved model\n",
    "\n",
    "In notebook 4 and 5, we showed you how to save/load the simple ML model. To save you time we have included the trained models using all features. Let's load them here (for classification)"
   ]
  },
  {
   "cell_type": "code",
   "execution_count": 1,
   "id": "1f93e901",
   "metadata": {},
   "outputs": [
    {
     "name": "stdout",
     "output_type": "stream",
     "text": [
      "[LogisticRegression(), GaussianNB(), DecisionTreeClassifier(), RandomForestClassifier(n_jobs=3), GradientBoostingClassifier(), LinearSVC(dual=False)]\n"
     ]
    }
   ],
   "source": [
    "import pickle\n",
    "names = ['LgR.pkl','NB.pkl','DT.pkl','RF.pkl','GBT.pkl','SVM.pkl']\n",
    "start_path = '../datasets/sklearnmodels/classification/allfeatures/'\n",
    "model_list = []\n",
    "\n",
    "for name in names:\n",
    "    #notice the change from wb to rb \n",
    "    savefile = open(start_path + name,'rb')\n",
    "    #notice the change from dump to load \n",
    "    model_list.append(pickle.load(savefile))\n",
    "    \n",
    "print(model_list)"
   ]
  },
  {
   "cell_type": "code",
   "execution_count": null,
   "id": "f817c37a",
   "metadata": {},
   "outputs": [],
   "source": []
  },
  {
   "cell_type": "code",
   "execution_count": null,
   "id": "d6fb1a5a",
   "metadata": {},
   "outputs": [],
   "source": []
  },
  {
   "cell_type": "code",
   "execution_count": null,
   "id": "a28ab51c",
   "metadata": {},
   "outputs": [],
   "source": []
  }
 ],
 "metadata": {
  "kernelspec": {
   "display_name": "waf_tutorial_part1",
   "language": "python",
   "name": "waf_tutorial_part1"
  },
  "language_info": {
   "codemirror_mode": {
    "name": "ipython",
    "version": 3
   },
   "file_extension": ".py",
   "mimetype": "text/x-python",
   "name": "python",
   "nbconvert_exporter": "python",
   "pygments_lexer": "ipython3",
   "version": "3.10.2"
  }
 },
 "nbformat": 4,
 "nbformat_minor": 5
}
