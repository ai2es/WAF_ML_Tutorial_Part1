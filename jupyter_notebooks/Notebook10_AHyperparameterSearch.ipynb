{
 "cells": [
  {
   "cell_type": "markdown",
   "id": "e98f84a0",
   "metadata": {},
   "source": [
    "# Notebook 10: A hyperparameter search\n",
    "\n",
    "### Goal: Training a ML using all features/predictors/inputs and all ML methods\n",
    "\n",
    "#### Reminder of Problem Statement\n",
    "\n",
    "Reminder of the ML task we want to accomplish in the paper. \n",
    "\n",
    "1. Does this image contain a thunderstorm? <-- Classification\n",
    "2. How many lightning flashes are in this image? <-- Regression\n",
    "\n",
    "#### Background\n",
    "\n",
    "Please make sure you already did Notebook 5, because this notebook extends what we did in Notebook 5 to now include many more input predictors.\n",
    "\n",
    "#### Step 1 & 2: Import packages and load data for Classification  \n",
    "In Notebook 5 we only wanted 1 feature, no we want all available inputs (36 total). So all we need to change is the ```features_to_keep``` keyword to inlcude all indices. "
   ]
  },
  {
   "cell_type": "code",
   "execution_count": null,
   "id": "993cd862",
   "metadata": {},
   "outputs": [],
   "source": []
  }
 ],
 "metadata": {
  "kernelspec": {
   "display_name": "waf_tutorial_part1",
   "language": "python",
   "name": "waf_tutorial_part1"
  },
  "language_info": {
   "codemirror_mode": {
    "name": "ipython",
    "version": 3
   },
   "file_extension": ".py",
   "mimetype": "text/x-python",
   "name": "python",
   "nbconvert_exporter": "python",
   "pygments_lexer": "ipython3",
   "version": "3.10.2"
  }
 },
 "nbformat": 4,
 "nbformat_minor": 5
}
