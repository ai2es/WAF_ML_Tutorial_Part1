{
 "cells": [
  {
   "cell_type": "markdown",
   "id": "e98f84a0",
   "metadata": {},
   "source": [
    "# Notebook 10: A hyperparameter search\n",
    "\n",
    "### Goal: Show an example of hyperparameter tuning \n",
    "\n",
    "#### Background\n",
    "\n",
    "If you ever choose to look at any of the ML method documentation, you will find there are alot of switches and nobs you can play with. See this page on ```RandomForestRegressor``` [click](https://scikit-learn.org/stable/modules/generated/sklearn.ensemble.RandomForestRegressor.html)\n",
    "\n",
    "#### Step 1 & 2: Import packages and load data for Classification  \n",
    "In Notebook 5 we only wanted 1 feature, no we want all available inputs (36 total). So all we need to change is the ```features_to_keep``` keyword to inlcude all indices. "
   ]
  },
  {
   "cell_type": "code",
   "execution_count": null,
   "id": "993cd862",
   "metadata": {},
   "outputs": [],
   "source": []
  }
 ],
 "metadata": {
  "kernelspec": {
   "display_name": "waf_tutorial_part1",
   "language": "python",
   "name": "waf_tutorial_part1"
  },
  "language_info": {
   "codemirror_mode": {
    "name": "ipython",
    "version": 3
   },
   "file_extension": ".py",
   "mimetype": "text/x-python",
   "name": "python",
   "nbconvert_exporter": "python",
   "pygments_lexer": "ipython3",
   "version": "3.10.2"
  }
 },
 "nbformat": 4,
 "nbformat_minor": 5
}
